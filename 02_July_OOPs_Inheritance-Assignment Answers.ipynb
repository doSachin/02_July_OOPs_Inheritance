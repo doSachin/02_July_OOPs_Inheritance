{
 "cells": [
  {
   "cell_type": "markdown",
   "id": "b67e2345",
   "metadata": {
    "ExecuteTime": {
     "end_time": "2024-04-27T21:10:47.075281Z",
     "start_time": "2024-04-27T21:10:47.052959Z"
    }
   },
   "source": [
    "<h1 align=\"center\" ><span style=\"color: blue; font-size: 48px;\"><b> Assignment No. 2: 02_July_OOPs_Inheritance</b></span></h1>\n",
    "\n",
    "<h1 style=\"font-family: Trebuchet MS; font-size: 14px; color: #34495E; text-align: right; \">Submitted By: Sachin Dodake</h1>\n",
    "\n",
    "<hr style=\"height:3px;border-width:1;color:blue;background-color:blue\">"
   ]
  },
  {
   "cell_type": "markdown",
   "id": "a7477e7a",
   "metadata": {
    "ExecuteTime": {
     "end_time": "2024-04-27T21:12:46.497605Z",
     "start_time": "2024-04-27T21:12:46.478052Z"
    }
   },
   "source": [
    "**1. Explain what `inheritance` is in object-oriented programming and why it is used.**\n",
    " "
   ]
  },
  {
   "cell_type": "markdown",
   "id": "2274a98f",
   "metadata": {},
   "source": [
    "**Ans-1:**"
   ]
  },
  {
   "cell_type": "markdown",
   "id": "c4d95d1a",
   "metadata": {},
   "source": [
    "**`Inheritance:`**\n",
    ">- Inheritance in object-oriented programming is a mechanism that allows a new class (called the derived or subclass) to inherit attributes and methods from an existing class (called the base or superclass). This means that the subclass can reuse and extend the functionality of the superclass.  \n",
    ">- Inheritance is used in object-oriented programming to promote code reuse, establish hierarchies, facilitate polymorphism, and allow for customization and extension of existing classes. It helps in building modular, organized, and flexible codebases.\n",
    "\n",
    " **`KeyPoints:`**\n",
    "\n",
    ">- **`1. Inheriting Attributes and Methods:`** When a subclass inherits from a superclass, it automatically gains access to all the attributes and methods defined in the superclass. This includes both the data attributes and the behavior (methods) associated with the superclass.\n",
    ">- **`2. Code Reusability:`** Inheritance promotes code reusability by allowing subclasses to reuse code from the superclass. Instead of rewriting common functionality, subclasses can inherit and extend the behavior of the superclass, reducing redundancy and improving maintainability.\n",
    ">- **`3. Hierarchy and Organization:`** Inheritance also helps in organizing classes into a hierarchy based on their relationships. Subclasses represent more specialized versions of the superclass, creating a clear and structured hierarchy of classes.\n",
    ">- **`4. Polymorphism:`** Inheritance plays a crucial role in achieving polymorphism, which allows objects of different classes to be treated as objects of a common superclass. This enables code flexibility and facilitates writing more generic and reusable code.\n",
    ">- **`5. Overriding and Extending:`** Subclasses can override methods from the superclass, providing their own implementation if needed. They can also add new methods or attributes specific to the subclass, thus extending the functionality of the superclass."
   ]
  },
  {
   "cell_type": "markdown",
   "id": "65fa3af1",
   "metadata": {
    "ExecuteTime": {
     "end_time": "2024-04-27T21:12:46.497605Z",
     "start_time": "2024-04-27T21:12:46.478052Z"
    }
   },
   "source": [
    "**2. Discuss the concept of `single inheritance` and `multiple inheritance`, highlighting their differences and advantages.**"
   ]
  },
  {
   "cell_type": "markdown",
   "id": "d3671647",
   "metadata": {
    "ExecuteTime": {
     "end_time": "2024-04-27T21:29:43.928212Z",
     "start_time": "2024-04-27T21:29:43.889525Z"
    }
   },
   "source": [
    "**Ans-2:**\n",
    "\n",
    "\n",
    "**`Single Inheritance:`**\n",
    "\n",
    "> **`Single Inheritance:`**\n",
    ">- In single inheritance, a class can inherit attributes and methods from only one parent class or superclass. This means that the subclass is directly derived from a single parent class, forming a hierarchical relationship.      \n",
    ">- Single inheritance enables a derived class to inherit properties from a single parent class, thus enabling code reusability and the addition of new features to existing code.\n",
    "\n",
    ">  **`Advantages of Single Inheritance:`**\n",
    ">- 1. **Simplicity:** Single inheritance tends to be simpler to understand and implement as it involves only one parent class.\n",
    ">- 2. **Ease of Maintenance:** With a single parent class, the class hierarchy is straightforward, making it easier to maintain and debug code.\n",
    ">- 3. **Less Ambiguity:** In single inheritance, there are no conflicts or ambiguities that arise from inheriting attributes or methods from multiple sources.\n",
    ">- 4. **Code Reusability:** It still promotes code reusability as subclasses can inherit and extend functionality from a single superclass.\n",
    ">- 5. **Hierarchy:** Single inheritance helps maintain a clear hierarchy of classes, making code organization more straightforward.\n",
    "\n",
    "**`Multiple Inheritance:`**\n",
    "\n",
    "> **`Multiple Inheritance:`**\n",
    ">- In multiple inheritance, a class can inherit attributes and methods from more than one parent class or superclass. This means that the subclass can have multiple direct parent classes, each contributing its own set of attributes and methods.\n",
    ">- When a class can be derived from more than one base class this type of inheritance is called multiple inheritances. In multiple inheritances, all the features of the base classes are inherited into the derived class. \n",
    "\n",
    "> **`Advantages of Multiple Inheritance:`**\n",
    ">- 1. **Code Reusability:** Multiple inheritance promotes code reusability as a subclass can inherit and combine functionalities from multiple parent classes.\n",
    ">- 2. **Flexibility:** Multiple inheritance provides more flexibility in designing class hierarchies by allowing classes to inherit characteristics from diverse sources.\n",
    ">- 3. **Polymorphism:** Multiple inheritance supports polymorphism, where objects can exhibit different behaviors based on the interfaces or traits inherited from multiple superclasses.\n",
    "\n",
    "**`Differences:`**\n",
    "\n",
    ">- 1. **Complexity:** Multiple inheritance is more complex than single inheritance due to potential conflicts and ambiguities that can arise.\n",
    ">- 2. **Design Considerations:** Single inheritance is often preferred for simpler hierarchies, while multiple inheritance is suitable for more complex scenarios that require combining functionalities from multiple sources.\n",
    ">- 3. **Number of Superclasses:** Single inheritance allows a class to inherit from only one superclass, creating a linear hierarchy. Multiple inheritance allows  a class to inherit from multiple superclasses, leading to more complex class structures.\n",
    ">- 4. **Hierarchy:** Single inheritance follows a straightforward parent-child relationship, making the class hierarchy easy to understand. Multiple inheritance can result in a more intricate hierarchy with multiple parent classes, which requires careful design and management.\n",
    ">- 5. **Code Reusability:** Single inheritance still promotes code reusability as subclasses can inherit and extend functionality from a single superclass. Multiple inheritance greatly enhances code reusability as subclasses can inherit from multiple superclasses, reducing duplicate code. "
   ]
  },
  {
   "cell_type": "markdown",
   "id": "bfa20fe4",
   "metadata": {
    "ExecuteTime": {
     "end_time": "2024-04-27T21:12:46.497605Z",
     "start_time": "2024-04-27T21:12:46.478052Z"
    }
   },
   "source": [
    " **3. Explain the terms \"`base class`\" and \"`derived class`\" in the context of inheritance.**\n",
    " "
   ]
  },
  {
   "cell_type": "markdown",
   "id": "576e6b20",
   "metadata": {
    "ExecuteTime": {
     "end_time": "2024-04-27T21:42:04.128071Z",
     "start_time": "2024-04-27T21:42:04.112416Z"
    }
   },
   "source": [
    "**Ans-3:**\n",
    "    \n",
    "**`Base Class (Parent Class):`**\n",
    ">- The base class is the class from which attributes and methods are inherited.\n",
    ">- It serves as the template or blueprint for creating new classes.\n",
    ">- The base class provides common functionalities and characteristics that can be reused by its derived classes.\n",
    ">- In Python, the base class is defined first and then used as the parent for derived classes.    \n",
    ">- Example: "
   ]
  },
  {
   "cell_type": "code",
   "execution_count": 8,
   "id": "041a4759",
   "metadata": {
    "ExecuteTime": {
     "end_time": "2024-04-27T21:43:13.581675Z",
     "start_time": "2024-04-27T21:43:13.565572Z"
    }
   },
   "outputs": [],
   "source": [
    "class Animal:    # this is  a base class\n",
    "    def speak(self):\n",
    "        print(\"Animal speaks.\")\n",
    "\n",
    "class Dog(Animal):  # Dog is a derived class inheriting from Animal\n",
    "    def bark(self):\n",
    "        print(\"Dog barks.\")"
   ]
  },
  {
   "cell_type": "markdown",
   "id": "dcbca892",
   "metadata": {
    "ExecuteTime": {
     "end_time": "2024-04-27T21:44:04.249423Z",
     "start_time": "2024-04-27T21:44:04.226017Z"
    }
   },
   "source": [
    "**`Derived Class (Subclass):`**\n",
    ">- The derived class is the class that inherits attributes and methods from a base class.\n",
    ">- It extends or modifies the functionality of the base class while inheriting its properties.\n",
    ">- Derived classes can add new attributes, methods, or override existing ones inherited from the base class.\n",
    ">- In Python, the derived class is created by specifying the base class in parentheses after the derived class name.\n",
    ">-  Example:"
   ]
  },
  {
   "cell_type": "code",
   "execution_count": 10,
   "id": "1cec785a",
   "metadata": {
    "ExecuteTime": {
     "end_time": "2024-04-27T21:44:31.472318Z",
     "start_time": "2024-04-27T21:44:31.457304Z"
    }
   },
   "outputs": [],
   "source": [
    "class Bird:     # This is a base class\n",
    "    def fly(self):\n",
    "        print(\"Bird flies.\")\n",
    "\n",
    "class FlyingDog(Bird, Dog):  # FlyingDog is a derived class inheriting from Bird and Dog\n",
    "    def fly_and_bark(self):\n",
    "        self.fly()\n",
    "        self.bark()"
   ]
  },
  {
   "cell_type": "markdown",
   "id": "216811dc",
   "metadata": {
    "ExecuteTime": {
     "end_time": "2024-04-27T21:12:46.497605Z",
     "start_time": "2024-04-27T21:12:46.478052Z"
    }
   },
   "source": [
    "**4. What is the significance of the \"`protected`\" access modifier in inheritance? How does it differ from \"`private`\" and \"`public`\" modifiers?**\n",
    " "
   ]
  },
  {
   "cell_type": "markdown",
   "id": "2b65dfff",
   "metadata": {},
   "source": [
    "**Ans-4:**\n",
    "    \n",
    "- In Python, the \"`protected`\" access modifier plays a significant role in inheritance by controlling access to class members (attributes and methods) within the class itself and its subclasses. Understanding the significance of the \"`protected`\" access modifier involves comparing it with the \"`private`\" and \"`public`\" modifiers.\n",
    "\n",
    "**`1. Public Access Modifier:`**\n",
    ">- Attributes and methods with no access modifier (default) or with the \"public\" access modifier (`public_attribute`, `def public_method(self):`) are accessible from anywhere within the class, its subclasses, and external code.\n",
    ">- Example:"
   ]
  },
  {
   "cell_type": "code",
   "execution_count": 19,
   "id": "59692b4e",
   "metadata": {
    "ExecuteTime": {
     "end_time": "2024-04-27T22:02:03.831673Z",
     "start_time": "2024-04-27T22:02:03.823234Z"
    }
   },
   "outputs": [
    {
     "name": "stdout",
     "output_type": "stream",
     "text": [
      "Public\n",
      "\tThis is a public method.\n"
     ]
    }
   ],
   "source": [
    "class MyClass:\n",
    "    def __init__(self):\n",
    "        self.public_attribute = \"Public\"\n",
    "    \n",
    "    def public_method(self):\n",
    "        print(\"\\tThis is a public method.\")\n",
    "\n",
    "obj = MyClass()\n",
    "print(obj.public_attribute)  # Accessing public attribute\n",
    "obj.public_method()  # Accessing public method"
   ]
  },
  {
   "cell_type": "markdown",
   "id": "ed32d771",
   "metadata": {},
   "source": [
    "**`2. Protected Access Modifier:`**\n",
    " >- Attributes and methods with the \"protected\" access modifier (`_protected_attribute`, `def _protected_method(self):`) are accessible within the class itself and its subclasses (derived classes), but not from external code.\n",
    " >- The underscore `_` at the beginning of the attribute or method name indicates that it is protected.\n",
    " >- Example:"
   ]
  },
  {
   "cell_type": "code",
   "execution_count": 20,
   "id": "d639fc61",
   "metadata": {
    "ExecuteTime": {
     "end_time": "2024-04-27T22:02:06.587101Z",
     "start_time": "2024-04-27T22:02:06.565593Z"
    }
   },
   "outputs": [
    {
     "name": "stdout",
     "output_type": "stream",
     "text": [
      "Protected\n",
      "\tThis is a protected method.\n"
     ]
    }
   ],
   "source": [
    "class MyBaseClass:\n",
    "    def __init__(self):\n",
    "        self._protected_attribute = \"Protected\"\n",
    "    \n",
    "    def _protected_method(self):\n",
    "        print(\"\\tThis is a protected method.\")\n",
    "\n",
    "class MyDerivedClass(MyBaseClass):\n",
    "    def access_protected(self):\n",
    "        print(self._protected_attribute)  # Accessing protected attribute\n",
    "        self._protected_method()  # Accessing protected method\n",
    "\n",
    "obj = MyDerivedClass()\n",
    "obj.access_protected()  # Accessing protected member from subclass"
   ]
  },
  {
   "cell_type": "markdown",
   "id": "9fa3f521",
   "metadata": {},
   "source": [
    "**`3. Private Access Modifier:`**\n",
    ">- Attributes and methods with the \"private\" access modifier (`__private_attribute`, `def __private_method(self):`) are accessible only within the class itself (not even subclasses) and cannot be accessed from external code.\n",
    ">- The double underscore `__` at the beginning of the attribute or method name indicates that it is private.\n",
    ">- Example:\n",
    " "
   ]
  },
  {
   "cell_type": "code",
   "execution_count": 21,
   "id": "bcfc1725",
   "metadata": {
    "ExecuteTime": {
     "end_time": "2024-04-27T22:02:08.285794Z",
     "start_time": "2024-04-27T22:02:08.258357Z"
    }
   },
   "outputs": [
    {
     "ename": "AttributeError",
     "evalue": "'MyClass' object has no attribute '__private_attribute'",
     "output_type": "error",
     "traceback": [
      "\u001b[1;31m---------------------------------------------------------------------------\u001b[0m",
      "\u001b[1;31mAttributeError\u001b[0m                            Traceback (most recent call last)",
      "Cell \u001b[1;32mIn[21], line 9\u001b[0m\n\u001b[0;32m      6\u001b[0m         \u001b[38;5;28mprint\u001b[39m(\u001b[38;5;124m\"\u001b[39m\u001b[38;5;124mThis is a private method.\u001b[39m\u001b[38;5;124m\"\u001b[39m)\n\u001b[0;32m      8\u001b[0m obj \u001b[38;5;241m=\u001b[39m MyClass()\n\u001b[1;32m----> 9\u001b[0m \u001b[43mobj\u001b[49m\u001b[38;5;241;43m.\u001b[39;49m\u001b[43m__private_attribute\u001b[49m  \u001b[38;5;66;03m# This would raise an AttributeError\u001b[39;00m\n\u001b[0;32m     10\u001b[0m obj\u001b[38;5;241m.\u001b[39m__private_method()  \u001b[38;5;66;03m# This would also raise an AttributeError\u001b[39;00m\n",
      "\u001b[1;31mAttributeError\u001b[0m: 'MyClass' object has no attribute '__private_attribute'"
     ]
    }
   ],
   "source": [
    "class MyClass:\n",
    "    def __init__(self):\n",
    "        self.__private_attribute = \"Private\"\n",
    "    \n",
    "    def __private_method(self):\n",
    "        print(\"This is a private method.\")\n",
    "\n",
    "obj = MyClass()\n",
    "obj.__private_attribute  # This would raise an AttributeError\n",
    "obj.__private_method()  # This would also raise an AttributeError"
   ]
  },
  {
   "cell_type": "markdown",
   "id": "5c852a0c",
   "metadata": {},
   "source": [
    "**`Differences and Significance:`**\n",
    "> **`1. Public vs. Protected vs. Private:`**\n",
    ">- Public members are accessible from anywhere, including external code.\n",
    ">- Protected members are accessible within the class and its subclasses, but not from external code.\n",
    ">- Private members are accessible only within the class itself, not even from subclasses or external code.\n",
    "\n",
    ">  **`2. Inheritance and Protected Modifier:`** \n",
    ">- The protected access modifier is particularly useful in inheritance as it allows subclasses to access and modify inherited attributes and methods without exposing them to external code.\n",
    ">- This helps maintain encapsulation and provides a level of access control within the class hierarchy.\n",
    "\n",
    "> **`3. Visibility:`**\n",
    ">- Public members have the widest visibility, accessible from anywhere.\n",
    ">- Protected members have restricted visibility, accessible within the class hierarchy but not externally.\n",
    ">- Private members have the narrowest visibility, accessible only within the defining class itself.\n",
    "\n",
    "> **`4. Encapsulation:`**\n",
    ">- Encapsulation refers to bundling data (attributes) and methods that operate on the data together as a single unit.\n",
    ">- Using access modifiers like protected and private helps in implementing encapsulation by controlling access to class members and preventing unintended modification from external code.   "
   ]
  },
  {
   "cell_type": "markdown",
   "id": "8f825784",
   "metadata": {
    "ExecuteTime": {
     "end_time": "2024-04-27T21:12:46.497605Z",
     "start_time": "2024-04-27T21:12:46.478052Z"
    }
   },
   "source": [
    "**5. What is the purpose of the \"`super\"` keyword in inheritance? Provide an example.**\n",
    " "
   ]
  },
  {
   "cell_type": "markdown",
   "id": "0b2f0ea0",
   "metadata": {},
   "source": [
    "**Ans-5:**\n",
    "  \n",
    "**`The super() keyword:`**\n",
    ">- The `super()` keyword is used in inheritance to access and call methods or attributes from the parent or superclass within the context of a subclass. It allows for a subclass to invoke methods or access attributes from its immediate superclass, enabling the concept of method overriding and maintaining the class hierarchy.\n",
    "\n",
    "**`Purpose of the super() keyword:`**\n",
    ">- **`1. Method Overriding:`** When a subclass redefines a method with the same name as a method in its superclass, `super()` allows the subclass to call the superclass's version of that method. This is crucial for extending and customizing the behavior of inherited methods.\n",
    ">- **`2. Accessing Superclass Attributes:`** Similarly, `super()` can be used to access attributes or properties defined in the superclass, allowing the subclass to use and manipulate inherited data."
   ]
  },
  {
   "cell_type": "code",
   "execution_count": 36,
   "id": "9d657dcc",
   "metadata": {
    "ExecuteTime": {
     "end_time": "2024-04-27T22:25:12.959354Z",
     "start_time": "2024-04-27T22:25:12.942372Z"
    }
   },
   "outputs": [
    {
     "name": "stdout",
     "output_type": "stream",
     "text": [
      "Country: India\n",
      "\tState: Maharashtra\n",
      "\tLanguage: Marathi\n"
     ]
    }
   ],
   "source": [
    "class Country:\n",
    "    def __init__(self, country):\n",
    "        self.country = country\n",
    "\n",
    "    def display_info(self):\n",
    "        print(f\"Country: {self.country}\")\n",
    "\n",
    "class State(Country):\n",
    "    def __init__(self, country, state, language):\n",
    "        super().__init__(country)  # Calling superclass constructor\n",
    "        self.state = state\n",
    "        self.language = language\n",
    "\n",
    "    def display_info(self):\n",
    "        super().display_info()  # Calling superclass method to display country info\n",
    "        print(f\"\\tState: {self.state}\\n\\tLanguage: {self.language}\")\n",
    "\n",
    "# Creating an instance of State\n",
    "maharashtra = State(\"India\", \"Maharashtra\", \"Marathi\")\n",
    "maharashtra.display_info()"
   ]
  },
  {
   "cell_type": "markdown",
   "id": "e637d5f5",
   "metadata": {},
   "source": [
    "**6. Create a base class called \"`Vehicle`\" with attributes like \"`make`\", \"`model`\", and \"`year`\". Then, create a derived class called \"`Car`\" that inherits from \"`Vehicle`\" and adds an attribute called \"`fuel_type`\". Implement appropriate methods in both classes.**"
   ]
  },
  {
   "cell_type": "markdown",
   "id": "2815df52",
   "metadata": {},
   "source": [
    "**Ans-6:** \n",
    "\n",
    ">- In this code, `Vehicle is base class` and the `Car is derived class`.\n",
    ">- The `Vehicle class` has attributes `make, model, and year, and a method display_info` to print out these attributes. \n",
    ">- The `Car class` inherits from `Vehicle` and adds an attribute `fuel_type`. \n",
    ">- It also overrides the `display_info` method to include printing the `fuel_type`."
   ]
  },
  {
   "cell_type": "code",
   "execution_count": 3,
   "id": "e797810d",
   "metadata": {
    "ExecuteTime": {
     "end_time": "2024-04-28T08:40:02.042548Z",
     "start_time": "2024-04-28T08:40:02.022214Z"
    }
   },
   "outputs": [
    {
     "name": "stdout",
     "output_type": "stream",
     "text": [
      "Make: TATA\n",
      "\tModel: PUNCH\n",
      "\tYear: 2024\n",
      "\tFuel Type: eV\n"
     ]
    }
   ],
   "source": [
    "class Vehicle:\n",
    "    def __init__(self, make, model, year):\n",
    "        self.make = make\n",
    "        self.model = model\n",
    "        self.year = year\n",
    "\n",
    "    def display_info(self):\n",
    "        print(f\"Make: {self.make}\")\n",
    "        print(f\"\\tModel: {self.model}\")\n",
    "        print(f\"\\tYear: {self.year}\")\n",
    "\n",
    "\n",
    "class Car(Vehicle):\n",
    "    def __init__(self, make, model, year, fuel_type):\n",
    "        super().__init__(make, model, year)\n",
    "        self.fuel_type = fuel_type\n",
    "\n",
    "    def display_info(self):\n",
    "        super().display_info()\n",
    "        print(f\"\\tFuel Type: {self.fuel_type}\")\n",
    "\n",
    "\n",
    "# Usage example\n",
    "my_car = Car(\"TATA\", \"PUNCH\", 2024, \"eV\")\n",
    "my_car.display_info()    "
   ]
  },
  {
   "cell_type": "markdown",
   "id": "3046e831",
   "metadata": {
    "ExecuteTime": {
     "end_time": "2024-04-27T21:12:46.497605Z",
     "start_time": "2024-04-27T21:12:46.478052Z"
    }
   },
   "source": [
    "**7. Create a base class called \"`Employee`\" with attributes like \"`name`\" and \"`salary`\". Derive two classes, \"`Manager`\" and \"`Developer`,\" from \"`Employee`.\" Add an additional attribute called \"`department`\" for the \"`Manager`\" class and \"`programming_language`\" for the \"`Developer`\" class.**\n",
    " "
   ]
  },
  {
   "cell_type": "markdown",
   "id": "c7aaf6ce",
   "metadata": {},
   "source": [
    "**Ans-7:**\n",
    "    \n",
    ">- Here, `Employee is a base class` and the `Manager & Developer are derived classes`.\n",
    ">- The `Employee class` has attributes `name and salary, and a method display_info` to print out these attributes.\n",
    ">- The `Manager class` inherits from `Employee` and adds an attribute `department`. It also overrides the `display_info method` to include printing the `department`.\n",
    ">- The `Developer class` inherits from `Employee` and adds an attribute `programming_language`. It also overrides the `display_info method` to include printing the `programming_language`."
   ]
  },
  {
   "cell_type": "code",
   "execution_count": 11,
   "id": "182ecfe5",
   "metadata": {
    "ExecuteTime": {
     "end_time": "2024-04-28T08:54:06.305432Z",
     "start_time": "2024-04-28T08:54:06.275466Z"
    }
   },
   "outputs": [
    {
     "name": "stdout",
     "output_type": "stream",
     "text": [
      "The Name of the Employee is:  Mr. Krish\n",
      "The Salary of the Employee is:  ₹ 80000\n",
      "The Department of the Employee is: : IT\n",
      "\n",
      "The Name of the Employee is:  Sachin\n",
      "The Salary of the Employee is:  ₹ 40000\n",
      "The Working Programming Language: Python\n"
     ]
    }
   ],
   "source": [
    "class Employee:\n",
    "    def __init__(self, name, salary):\n",
    "        self.name = name\n",
    "        self.salary = salary\n",
    "\n",
    "    def display_info(self):\n",
    "        print(f\"The Name of the Employee is:  {self.name}\")\n",
    "        print(f\"The Salary of the Employee is:  ₹ {self.salary}\")\n",
    "\n",
    "\n",
    "class Manager(Employee):\n",
    "    def __init__(self, name, salary, department):\n",
    "        super().__init__(name, salary)\n",
    "        self.department = department\n",
    "\n",
    "    def display_info(self):\n",
    "        super().display_info()\n",
    "        print(f\"The Department of the Employee is: : {self.department}\")\n",
    "\n",
    "\n",
    "class Developer(Employee):\n",
    "    def __init__(self, name, salary, programming_language):\n",
    "        super().__init__(name, salary)\n",
    "        self.programming_language = programming_language\n",
    "\n",
    "    def display_info(self):\n",
    "        super().display_info()\n",
    "        print(f\"The Working Programming Language: {self.programming_language}\")\n",
    "\n",
    "\n",
    "# Usage example\n",
    "manager1 = Manager(\"Mr. Krish\", 80000, \"IT\")\n",
    "developer1 = Developer(\"Sachin\", 40000, \"Python\")\n",
    "\n",
    "manager1.display_info()\n",
    "print()\n",
    "developer1.display_info()\n"
   ]
  },
  {
   "cell_type": "markdown",
   "id": "fc218a6d",
   "metadata": {
    "ExecuteTime": {
     "end_time": "2024-04-27T21:12:46.497605Z",
     "start_time": "2024-04-27T21:12:46.478052Z"
    }
   },
   "source": [
    "**8. Design a base class called \"`Shape`\" with attributes like \"`colour`\" and \"`border_width`.\" Create derived classes, \"`Rectangle`\" and \"`Circle`,\" that inherit from \"`Shape`\" and add specific attributes like \"`length`\" and \"`width`\" for the \"`Rectangle`\" class and \"`radius`\" for the \"`Circle\" class`.**\n",
    " "
   ]
  },
  {
   "cell_type": "markdown",
   "id": "c2a750e5",
   "metadata": {},
   "source": [
    "**Ans-8:**\n",
    "\n",
    ">- Here, the `Shape base class` and `Rectangle & Circle classes are derive classes`. \n",
    ">- The `Shape class`has attributes `colour and border_width, and a method display_info` to print out these attributes.\n",
    ">- The `Rectangle class` inherits from `Shape` and adds attributes `length and width`. It also overrides the `display_info method` to include printing the `length, width, and calculating the area of the rectangle`.\n",
    ">- The `ircle class` inherits from `Shape` and adds an attribute `radius`. It also overrides the `display_info` method to include printing the `radius and calculating the area of the circle`.  "
   ]
  },
  {
   "cell_type": "code",
   "execution_count": 22,
   "id": "a899dd2e",
   "metadata": {
    "ExecuteTime": {
     "end_time": "2024-04-28T09:04:34.301825Z",
     "start_time": "2024-04-28T09:04:34.272715Z"
    }
   },
   "outputs": [
    {
     "name": "stdout",
     "output_type": "stream",
     "text": [
      "The specification of Rectangles are:\n",
      "\tColour: Red\n",
      "\tBorder Width: 2 mm\n",
      "\tLength: 5 cm\n",
      "\tWidth: 10 cm\n",
      "\tArea: 50 sq cm.\n",
      "\n",
      "The specification of Circle are:\n",
      "\tColour: Blue\n",
      "\tBorder Width: 1 mm\n",
      "\tRadius: 7 cm\n",
      "\tArea: 153.86 sq cm.\n"
     ]
    }
   ],
   "source": [
    "class Shape:\n",
    "    def __init__(self, colour, border_width):\n",
    "        self.colour = colour\n",
    "        self.border_width = border_width\n",
    "\n",
    "    def display_info(self):\n",
    "        print(f\"\\tColour: {self.colour}\")\n",
    "        print(f\"\\tBorder Width: {self.border_width} mm\")\n",
    "\n",
    "\n",
    "class Rectangle(Shape):\n",
    "    def __init__(self, colour, border_width, length, width):\n",
    "        super().__init__(colour, border_width)\n",
    "        self.length = length\n",
    "        self.width = width\n",
    "\n",
    "    def display_info(self):\n",
    "        super().display_info()\n",
    "        print(f\"\\tLength: {self.length} cm\")\n",
    "        print(f\"\\tWidth: {self.width} cm\")\n",
    "        print(f\"\\tArea: {self.length * self.width} sq cm.\")\n",
    "\n",
    "\n",
    "class Circle(Shape):\n",
    "    def __init__(self, colour, border_width, radius):\n",
    "        super().__init__(colour, border_width)\n",
    "        self.radius = radius\n",
    "\n",
    "    def display_info(self):\n",
    "        super().display_info()\n",
    "        print(f\"\\tRadius: {self.radius} cm\")\n",
    "        print(f\"\\tArea: {3.14 * self.radius ** 2} sq cm.\")\n",
    "\n",
    "\n",
    "# Usage example\n",
    "rectangle = Rectangle(\"Red\", 2, 5, 10)\n",
    "circle = Circle(\"Blue\", 1, 7)\n",
    "\n",
    "print(f\"The specification of Rectangles are:\")\n",
    "rectangle.display_info()\n",
    "\n",
    "print(f\"\\nThe specification of Circle are:\")\n",
    "circle.display_info()"
   ]
  },
  {
   "cell_type": "markdown",
   "id": "9cfdb8ce",
   "metadata": {
    "ExecuteTime": {
     "end_time": "2024-04-27T21:12:46.497605Z",
     "start_time": "2024-04-27T21:12:46.478052Z"
    }
   },
   "source": [
    "**9. Create a base class called \"`Device`\" with attributes like \"`brand`\" and \"`model`.\" Derive two classes, \"`Phone`\" and \"`Tablet`,\" from \"`Device`.\" Add specific attributes like \"`screen_size`\" for the \"`Phone`\" class and \"`battery_capacity`\" for the \"`Tablet`\" class.**\n",
    " "
   ]
  },
  {
   "cell_type": "markdown",
   "id": "71353851",
   "metadata": {},
   "source": [
    "**Ans-9:**\n",
    "    \n",
    ">- Here, the `Device is a base class` and the `Phone & Tablet are derive classes.` \n",
    ">- The `Device class` has attributes `brand and model, and a method display_info` to print out these attributes.\n",
    ">- The `Phone class` inherits from `Device` and adds an attribute `screen_size (measured in inches)`.\n",
    ">- The `Tablet class` inherits from `Device` and adds an attribute `battery_capacity (measured in mAh)`."
   ]
  },
  {
   "cell_type": "code",
   "execution_count": 24,
   "id": "20372b41",
   "metadata": {
    "ExecuteTime": {
     "end_time": "2024-04-28T09:08:23.305454Z",
     "start_time": "2024-04-28T09:08:23.281699Z"
    }
   },
   "outputs": [
    {
     "name": "stdout",
     "output_type": "stream",
     "text": [
      "Brand: Apple\n",
      "\tModel: iPhone 13\n",
      "\tScreen Size: 6.1 inches\n",
      "\n",
      "Brand: Apple\n",
      "\tModel: iPad Air\n",
      "\tBattery Capacity: 7200 mAh\n"
     ]
    }
   ],
   "source": [
    "class Device:\n",
    "    def __init__(self, brand, model):\n",
    "        self.brand = brand\n",
    "        self.model = model\n",
    "\n",
    "    def display_info(self):\n",
    "        print(f\"Brand: {self.brand}\")\n",
    "        print(f\"\\tModel: {self.model}\")\n",
    "\n",
    "\n",
    "class Phone(Device):\n",
    "    def __init__(self, brand, model, screen_size):\n",
    "        super().__init__(brand, model)\n",
    "        self.screen_size = screen_size\n",
    "\n",
    "    def display_info(self):\n",
    "        super().display_info()\n",
    "        print(f\"\\tScreen Size: {self.screen_size} inches\")\n",
    "\n",
    "\n",
    "class Tablet(Device):\n",
    "    def __init__(self, brand, model, battery_capacity):\n",
    "        super().__init__(brand, model)\n",
    "        self.battery_capacity = battery_capacity\n",
    "\n",
    "    def display_info(self):\n",
    "        super().display_info()\n",
    "        print(f\"\\tBattery Capacity: {self.battery_capacity} mAh\")\n",
    "\n",
    "\n",
    "# Usage example\n",
    "iphone = Phone(\"Apple\", \"iPhone 13\", 6.1)\n",
    "ipad = Tablet(\"Apple\", \"iPad Air\", 7200)\n",
    "\n",
    "iphone.display_info()\n",
    "print()\n",
    "ipad.display_info()\n"
   ]
  },
  {
   "cell_type": "markdown",
   "id": "55e79793",
   "metadata": {
    "ExecuteTime": {
     "end_time": "2024-04-27T21:12:46.497605Z",
     "start_time": "2024-04-27T21:12:46.478052Z"
    }
   },
   "source": [
    "**10. Create a base class called \"`BankAccount`\" with attributes like \"`account_number`\" and \"`balance`.\" Derive two classes, \"`SavingsAccount`\" and \"`CheckingAccount`,\" from \"`BankAccount`.\" Add specific methods like \"`calculate_interest`\" for the \"`SavingsAccount`\" class and \"`deduct_fees`\" for the \"`CheckingAccount`\" class**"
   ]
  },
  {
   "cell_type": "markdown",
   "id": "7552a459",
   "metadata": {},
   "source": [
    "**Ans-10:**\n",
    "\n",
    ">- Here, the `BankAccount is base class` and `SavingsAccount and CheckingAccount` are the derive classes.\n",
    ">- The `BankAccount class` has attributes `account_number and balance, and a method display_info` to print out these attributes.\n",
    ">- The `SavingsAccount class` inherits from `BankAccount` and adds an `attribute interest_rate (in percentage)`. It also has a method `calculate_interest` to calculate and add interest to the account balance.\n",
    ">- The `CheckingAccount class` inherits from `BankAccount` and adds an attribute `fee_amount`. It has a method `deduct_fees` to deduct fees from the account balance."
   ]
  },
  {
   "cell_type": "code",
   "execution_count": 29,
   "id": "cb632607",
   "metadata": {
    "ExecuteTime": {
     "end_time": "2024-04-28T09:12:34.175759Z",
     "start_time": "2024-04-28T09:12:34.151181Z"
    }
   },
   "outputs": [
    {
     "name": "stdout",
     "output_type": "stream",
     "text": [
      "Account Number: SA123456\n",
      "\tBalance: ₹ 1000.00\n",
      "\tInterest calculated: ₹ 50.00\n",
      "\tUpdated Balance: ₹ 1050.00\n",
      "\n",
      "Account Number: CA987654\n",
      "\tBalance: ₹ 1500.00\n",
      "\tFees deducted: ₹ 20.00\n",
      "\tUpdated Balance: ₹ 1480.00\n"
     ]
    }
   ],
   "source": [
    "class BankAccount:\n",
    "    def __init__(self, account_number, balance):\n",
    "        self.account_number = account_number\n",
    "        self.balance = balance\n",
    "\n",
    "    def display_info(self):\n",
    "        print(f\"Account Number: {self.account_number}\")\n",
    "        print(f\"\\tBalance: ₹ {self.balance:.2f}\")\n",
    "\n",
    "\n",
    "class SavingsAccount(BankAccount):\n",
    "    def __init__(self, account_number, balance, interest_rate):\n",
    "        super().__init__(account_number, balance)\n",
    "        self.interest_rate = interest_rate\n",
    "\n",
    "    def calculate_interest(self):\n",
    "        interest_amount = self.balance * (self.interest_rate / 100)\n",
    "        self.balance += interest_amount\n",
    "        print(f\"\\tInterest calculated: ₹ {interest_amount:.2f}\")\n",
    "        print(f\"\\tUpdated Balance: ₹ {self.balance:.2f}\")\n",
    "\n",
    "\n",
    "class CheckingAccount(BankAccount):\n",
    "    def __init__(self, account_number, balance, fee_amount):\n",
    "        super().__init__(account_number, balance)\n",
    "        self.fee_amount = fee_amount\n",
    "\n",
    "    def deduct_fees(self):\n",
    "        if self.balance >= self.fee_amount:\n",
    "            self.balance -= self.fee_amount\n",
    "            print(f\"\\tFees deducted: ₹ {self.fee_amount:.2f}\")\n",
    "            print(f\"\\tUpdated Balance: ₹ {self.balance:.2f}\")\n",
    "        else:\n",
    "            print(\"Insufficient balance to deduct fees.\")\n",
    "\n",
    "\n",
    "# Usage example\n",
    "savings_acc = SavingsAccount(\"SA123456\", 1000, 5)  # 5% interest rate\n",
    "checking_acc = CheckingAccount(\"CA987654\", 1500, 20)  # $20 fee\n",
    "\n",
    "savings_acc.display_info()\n",
    "savings_acc.calculate_interest()\n",
    "print()\n",
    "\n",
    "checking_acc.display_info()\n",
    "checking_acc.deduct_fees()\n"
   ]
  }
 ],
 "metadata": {
  "hide_input": false,
  "kernelspec": {
   "display_name": "venv_heart_kernel",
   "language": "python",
   "name": "venv_heart_kernel"
  },
  "language_info": {
   "codemirror_mode": {
    "name": "ipython",
    "version": 3
   },
   "file_extension": ".py",
   "mimetype": "text/x-python",
   "name": "python",
   "nbconvert_exporter": "python",
   "pygments_lexer": "ipython3",
   "version": "3.10.9"
  },
  "varInspector": {
   "cols": {
    "lenName": 16,
    "lenType": 16,
    "lenVar": 40
   },
   "kernels_config": {
    "python": {
     "delete_cmd_postfix": "",
     "delete_cmd_prefix": "del ",
     "library": "var_list.py",
     "varRefreshCmd": "print(var_dic_list())"
    },
    "r": {
     "delete_cmd_postfix": ") ",
     "delete_cmd_prefix": "rm(",
     "library": "var_list.r",
     "varRefreshCmd": "cat(var_dic_list()) "
    }
   },
   "types_to_exclude": [
    "module",
    "function",
    "builtin_function_or_method",
    "instance",
    "_Feature"
   ],
   "window_display": false
  }
 },
 "nbformat": 4,
 "nbformat_minor": 5
}
